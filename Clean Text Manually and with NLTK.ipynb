{
 "cells": [
  {
   "cell_type": "markdown",
   "metadata": {},
   "source": [
    "# Clean Text Manually and with NLTK"
   ]
  },
  {
   "cell_type": "markdown",
   "metadata": {},
   "source": [
    "If the file contains header and footer information that we are not interested in, specifically copyright and license information. Open the file and delete the header and footer information and save the file as filname_clean.txt."
   ]
  },
  {
   "cell_type": "markdown",
   "metadata": {},
   "source": [
    "Text Cleaning Is Task Specific:\n",
    "    eg:\n",
    "        It's plain text so there is no markup to parse (yay!).\n",
    "        The lines are artificially wrapped with new lines at about 70 characters (meh).\n",
    "        There are no obvious typos or spelling mistakes.\n",
    "        There's punctuation like commas, apostrophes, quotes, question marks, and more.\n",
    "        There' s hyphenated descriptions like armour-like.\n",
    "        There's a lot of use of the em dash (-) to continue sentences (maybe replace with commas?).\n",
    "        There are names (e.g. Mr. Samsa)\n",
    "        There does not appear to be numbers that require handling (e.g. 1999)\n",
    "        There are section markers (e.g. II and III )."
   ]
  },
  {
   "cell_type": "code",
   "execution_count": 1,
   "metadata": {},
   "outputs": [
    {
     "name": "stdout",
     "output_type": "stream",
     "text": [
      "['washington', 'reuters', 'the', 'head', 'of', 'a', 'conservative', 'republican', 'faction', 'in', 'the', 'u', 's', 'congress', 'who', 'voted', 'this', 'month', 'for', 'a', 'huge', 'expansion', 'of', 'the', 'national', 'debt', 'to', 'pay', 'for', 'tax', 'cuts', 'called', 'himself', 'a', 'fiscal', 'conservative', 'on', 'sunday', 'and', 'urged', 'budget', 'restraint', 'in', '2018', 'in', 'keeping', 'with', 'a', 'sharp', 'pivot', 'under', 'way', 'among', 'republicans', 'u', 's', 'representative', 'mark', 'meadows', 'speaking', 'on', 'cbs', 'face', 'the', 'nation', 'drew', 'a', 'hard', 'line', 'on', 'federal', 'spending', 'which', 'lawmakers', 'are', 'bracing', 'to', 'do', 'battle', 'over', 'in', 'january', 'when', 'they', 'return', 'from', 'the', 'holidays', 'on', 'wednesday', 'lawmakers', 'will', 'begin', 'trying', 'to', 'pass', 'a', 'federal', 'budget', 'in', 'a', 'fight', 'likely', 'to', 'be', 'linked', 'to', 'other', 'issues', 'such', 'as', 'immigration', 'policy', 'even', 'as', 'the', 'november', 'congressional', 'election', 'campaigns', 'approach', 'in', 'which', 'republicans', 'will', 'seek', 'to', 'keep', 'control', 'of', 'congress', 'president', 'donald', 'trump', 'and', 'his', 'republicans', 'want', 'a', 'big', 'budget', 'increase', 'in', 'military', 'spending', 'while', 'democrats', 'also', 'want', 'proportional', 'increases', 'for', 'non', 'defense', 'discretionary', 'spending', 'on', 'programs', 'that', 'support', 'education', 'scientific', 'research', 'infrastructure', 'public', 'health', 'and', 'environmental', 'protection', 'the', 'trump', 'administration', 'has', 'already', 'been', 'willing', 'to', 'say', 'we', 're', 'going', 'to', 'increase', 'non', 'defense', 'discretionary', 'spending', 'by', 'about', '7', 'percent', 'meadows', 'chairman', 'of', 'the', 'small', 'but', 'influential', 'house', 'freedom', 'caucus', 'said', 'on', 'the', 'program', 'now', 'democrats', 'are', 'saying', 'that', 's', 'not', 'enough', 'we', 'need', 'to', 'give', 'the', 'government', 'a', 'pay', 'raise', 'of', '10', 'to', '11', 'percent', 'for', 'a', 'fiscal', 'conservative', 'i', 'don', 't', 'see', 'where', 'the', 'rationale', 'is', 'eventually', 'you', 'run', 'out', 'of', 'other', 'people', 's', 'money', 'he', 'said', 'meadows', 'was', 'among', 'republicans', 'who', 'voted', 'in', 'late', 'december', 'for', 'their', 'party', 's', 'debt', 'financed', 'tax', 'overhaul', 'which', 'is', 'expected', 'to', 'balloon', 'the', 'federal', 'budget', 'deficit', 'and', 'add', 'about', '1', '5', 'trillion', 'over', '10', 'years', 'to', 'the', '20', 'trillion', 'national', 'debt', 'it', 's', 'interesting', 'to', 'hear', 'mark', 'talk', 'about', 'fiscal', 'responsibility', 'democratic', 'u', 's', 'representative', 'joseph', 'crowley', 'said', 'on', 'cbs', 'crowley', 'said', 'the', 'republican', 'tax', 'bill', 'would', 'require', 'the', 'united', 'states', 'to', 'borrow', '1', '5', 'trillion', 'to', 'be', 'paid', 'off', 'by', 'future', 'generations', 'to', 'finance', 'tax', 'cuts', 'for', 'corporations', 'and', 'the', 'rich', 'this', 'is', 'one', 'of', 'the', 'least', 'fiscally', 'responsible', 'bills', 'we', 've', 'ever', 'seen', 'passed', 'in', 'the', 'history', 'of', 'the', 'house', 'of', 'representatives', 'i', 'think', 'we', 're', 'going', 'to', 'be', 'paying', 'for', 'this', 'for', 'many', 'many', 'years', 'to', 'come', 'crowley', 'said', 'republicans', 'insist', 'the', 'tax', 'package', 'the', 'biggest', 'u', 's', 'tax', 'overhaul', 'in', 'more', 'than', '30', 'years', 'will', 'boost', 'the', 'economy', 'and', 'job', 'growth', 'house', 'speaker', 'paul', 'ryan', 'who', 'also', 'supported', 'the', 'tax', 'bill', 'recently', 'went', 'further', 'than', 'meadows', 'making', 'clear', 'in', 'a', 'radio', 'interview', 'that', 'welfare', 'or', 'entitlement', 'reform', 'as', 'the', 'party', 'often', 'calls', 'it', 'would', 'be', 'a', 'top', 'republican', 'priority', 'in', '2018', 'in', 'republican', 'parlance', 'entitlement', 'programs', 'mean', 'food', 'stamps', 'housing', 'assistance', 'medicare', 'and', 'medicaid', 'health', 'insurance', 'for', 'the', 'elderly', 'poor', 'and', 'disabled', 'as', 'well', 'as', 'other', 'programs', 'created', 'by', 'washington', 'to', 'assist', 'the', 'needy', 'democrats', 'seized', 'on', 'ryan', 's', 'early', 'december', 'remarks', 'saying', 'they', 'showed', 'republicans', 'would', 'try', 'to', 'pay', 'for', 'their', 'tax', 'overhaul', 'by', 'seeking', 'spending', 'cuts', 'for', 'social', 'programs', 'but', 'the', 'goals', 'of', 'house', 'republicans', 'may', 'have', 'to', 'take', 'a', 'back', 'seat', 'to', 'the', 'senate', 'where', 'the', 'votes', 'of', 'some', 'democrats', 'will', 'be', 'needed', 'to', 'approve', 'a', 'budget', 'and', 'prevent', 'a', 'government', 'shutdown', 'democrats', 'will', 'use', 'their', 'leverage', 'in', 'the', 'senate', 'which', 'republicans', 'narrowly', 'control', 'to', 'defend', 'both', 'discretionary', 'non', 'defense', 'programs', 'and', 'social', 'spending', 'while', 'tackling', 'the', 'issue', 'of', 'the', 'dreamers', 'people', 'brought', 'illegally', 'to', 'the', 'country', 'as', 'children', 'trump', 'in', 'september', 'put', 'a', 'march', '2018', 'expiration', 'date', 'on', 'the', 'deferred', 'action', 'for', 'childhood', 'arrivals', 'or', 'daca', 'program', 'which', 'protects', 'the', 'young', 'immigrants', 'from', 'deportation', 'and', 'provides', 'them', 'with', 'work', 'permits', 'the', 'president', 'has', 'said', 'in', 'recent', 'twitter', 'messages', 'he', 'wants', 'funding', 'for', 'his', 'proposed', 'mexican', 'border', 'wall', 'and', 'other', 'immigration', 'law', 'changes', 'in', 'exchange', 'for', 'agreeing', 'to', 'help', 'the', 'dreamers', 'representative', 'debbie', 'dingell', 'told', 'cbs', 'she', 'did', 'not', 'favor', 'linking', 'that', 'issue', 'to', 'other', 'policy', 'objectives', 'such', 'as', 'wall', 'funding', 'we', 'need', 'to', 'do', 'daca', 'clean', 'she', 'said', 'on', 'wednesday', 'trump', 'aides', 'will', 'meet', 'with', 'congressional', 'leaders', 'to', 'discuss', 'those', 'issues', 'that', 'will', 'be', 'followed', 'by', 'a', 'weekend', 'of', 'strategy', 'sessions', 'for', 'trump', 'and', 'republican', 'leaders', 'on', 'jan', '6', 'and', '7', 'the', 'white', 'house', 'said', 'trump', 'was', 'also', 'scheduled', 'to', 'meet', 'on', 'sunday', 'with', 'florida', 'republican', 'governor', 'rick', 'scott', 'who', 'wants', 'more', 'emergency', 'aid', 'the', 'house', 'has', 'passed', 'an', '81', 'billion', 'aid', 'package', 'after', 'hurricanes', 'in', 'florida', 'texas', 'and', 'puerto', 'rico', 'and', 'wildfires', 'in', 'california', 'the', 'package', 'far', 'exceeded', 'the', '44', 'billion', 'requested', 'by', 'the', 'trump', 'administration', 'the', 'senate', 'has', 'not', 'yet', 'voted', 'on', 'the', 'aid', '']\n"
     ]
    }
   ],
   "source": [
    "# Manual Tokenization and Cleaning\n",
    "import pandas as pd\n",
    "fileName=\"true.csv\"\n",
    "real = pd.read_csv(fileName)\n",
    "words=real[\"text\"][0].split()\n",
    "#print(words)\n",
    "\n",
    "# use the regex model (re) and split the document into words by \n",
    "# selecting for strings of alphanumeric characters (a-z, A-Z, 0-9 and ` '). \n",
    "# It will not pick up other charaters like $ from our example\n",
    "import re\n",
    "words =re.split(r'\\W+',  real[\"text\"][0])\n",
    "#print(words)\n",
    "\n",
    "# remove punctuation using string.puctuation constant \n",
    "import string\n",
    "re_punc = re.compile('[%s]' % re.escape(string.punctuation))\n",
    "stripped = [re_punc.sub('', w).lower() for w in words]\n",
    "print (stripped)\n"
   ]
  },
  {
   "cell_type": "markdown",
   "metadata": {},
   "source": [
    "## Tokenization and Cleaning with NLTK\n",
    "NLTK = Natural Language Toolkit\n",
    "use pip install nltk\n",
    "After installation, you will need to install the data used with the library, including a great\n",
    "set of documents that you can use later for testing other tools in NLTK.\n",
    "use below commands to do it via UI or for command line use this command \"python -m nltk.downloader all\"\n",
    "nltk.download()\n"
   ]
  },
  {
   "cell_type": "code",
   "execution_count": 2,
   "metadata": {
    "scrolled": true
   },
   "outputs": [
    {
     "name": "stdout",
     "output_type": "stream",
     "text": [
      "['WASHINGTON (Reuters) - The head of a conservative Republican faction in the U.S. Congress, who voted this month for a huge expansion of the national debt to pay for tax cuts, called himself a “fiscal conservative” on Sunday and urged budget restraint in 2018.', 'In keeping with a sharp pivot under way among Republicans, U.S. Representative Mark Meadows, speaking on CBS’ “Face the Nation,” drew a hard line on federal spending, which lawmakers are bracing to do battle over in January.', 'When they return from the holidays on Wednesday, lawmakers will begin trying to pass a federal budget in a fight likely to be linked to other issues, such as immigration policy, even as the November congressional election campaigns approach in which Republicans will seek to keep control of Congress.', 'President Donald Trump and his Republicans want a big budget increase in military spending, while Democrats also want proportional increases for non-defense “discretionary” spending on programs that support education, scientific research, infrastructure, public health and environmental protection.', '“The (Trump) administration has already been willing to say: ‘We’re going to increase non-defense discretionary spending ... by about 7 percent,’” Meadows, chairman of the small but influential House Freedom Caucus, said on the program.', '“Now, Democrats are saying that’s not enough, we need to give the government a pay raise of 10 to 11 percent.', 'For a fiscal conservative, I don’t see where the rationale is.', '...', 'Eventually you run out of other people’s money,” he said.', 'Meadows was among Republicans who voted in late December for their party’s debt-financed tax overhaul, which is expected to balloon the federal budget deficit and add about $1.5 trillion over 10 years to the $20 trillion national debt.', '“It’s interesting to hear Mark talk about fiscal responsibility,” Democratic U.S. Representative Joseph Crowley said on CBS.', 'Crowley said the Republican tax bill would require the  United States to borrow $1.5 trillion, to be paid off by future generations, to finance tax cuts for corporations and the rich.', '“This is one of the least ... fiscally responsible bills we’ve ever seen passed in the history of the House of Representatives.', 'I think we’re going to be paying for this for many, many years to come,” Crowley said.', 'Republicans insist the tax package, the biggest U.S. tax overhaul in more than 30 years,  will boost the economy and job growth.', 'House Speaker Paul Ryan, who also supported the tax bill, recently went further than Meadows, making clear in a radio interview that welfare or “entitlement reform,” as the party often calls it, would be a top Republican priority in 2018.', 'In Republican parlance, “entitlement” programs mean food stamps, housing assistance, Medicare and Medicaid health insurance for the elderly, poor and disabled, as well as other programs created by Washington to assist the needy.', 'Democrats seized on Ryan’s early December remarks, saying they showed Republicans would try to pay for their tax overhaul by seeking spending cuts for social programs.', 'But the goals of House Republicans may have to take a back seat to the Senate, where the votes of some Democrats will be needed to approve a budget and prevent a government shutdown.', 'Democrats will use their leverage in the Senate, which Republicans narrowly control, to defend both discretionary non-defense programs and social spending, while tackling the issue of the “Dreamers,” people brought illegally to the country as children.', 'Trump in September put a March 2018 expiration date on the Deferred Action for Childhood Arrivals, or DACA, program, which protects the young immigrants from deportation and provides them with work permits.', 'The president has said in recent Twitter messages he wants funding for his proposed Mexican border wall and other immigration law changes in exchange for agreeing to help the Dreamers.', 'Representative Debbie Dingell told CBS she did not favor linking that issue to other policy objectives, such as wall funding.', '“We need to do DACA clean,” she said.', 'On Wednesday, Trump aides will meet with congressional leaders to discuss those issues.', 'That will be followed by a weekend of strategy sessions for Trump and Republican leaders on Jan. 6 and 7, the White House said.', 'Trump was also scheduled to meet on Sunday with Florida Republican Governor Rick Scott, who wants more emergency aid.', 'The House has passed an $81 billion aid package after hurricanes in Florida, Texas and Puerto Rico, and wildfires in California.', 'The package far exceeded the $44 billion requested by the Trump administration.', 'The Senate has not yet voted on the aid.']\n"
     ]
    }
   ],
   "source": [
    "import nltk\n",
    "import pandas as pd\n",
    "fileName=\"true.csv\"\n",
    "real = pd.read_csv(fileName)\n",
    "# Split into Sentences\n",
    "# A good useful first step is to split the text into sentences. Some modeling tasks prefer input\n",
    "# to be in the form of paragraphs or sentences, such as Word2Vec. You could first split your\n",
    "# text into sentences, split each sentence into words, then save each sentence to file, one per line.\n",
    "# NLTK provides the sent tokenize() function to split text into sentences.\n",
    "from nltk import sent_tokenize\n",
    "sentences = sent_tokenize(real[\"text\"][0])\n",
    "print(sentences)"
   ]
  },
  {
   "cell_type": "code",
   "execution_count": 75,
   "metadata": {},
   "outputs": [
    {
     "name": "stdout",
     "output_type": "stream",
     "text": [
      "Displaying 7 of 7 matches:\n",
      "ntrol of Congress . President Donald Trump and his Republicans want a big budge\n",
      "d environmental protection . “ The ( Trump ) administration has already been wi\n",
      "legally to the country as children . Trump in September put a March 2018 expira\n",
      " clean , ” she said . On Wednesday , Trump aides will meet with congressional l\n",
      "y a weekend of strategy sessions for Trump and Republican leaders on Jan. 6 and\n",
      "an. 6 and 7 , the White House said . Trump was also scheduled to meet on Sunday\n",
      "ed the $ 44 billion requested by the Trump administration . The Senate has not \n",
      "['WASHINGTON', 'Reuters', 'The', 'head', 'of', 'a', 'conservative', 'Republican', 'faction', 'in', 'the', 'Congress', 'who', 'voted', 'this', 'month', 'for', 'a', 'huge', 'expansion', 'of', 'the', 'national', 'debt', 'to', 'pay', 'for', 'tax', 'cuts', 'called', 'himself', 'a', 'fiscal', 'conservative', 'on', 'Sunday', 'and', 'urged', 'budget', 'restraint', 'in', 'In', 'keeping', 'with', 'a', 'sharp', 'pivot', 'under', 'way', 'among', 'Republicans', 'Representative', 'Mark', 'Meadows', 'speaking', 'on', 'CBS', 'Face', 'the', 'Nation', 'drew', 'a', 'hard', 'line', 'on', 'federal', 'spending', 'which', 'lawmakers', 'are', 'bracing', 'to', 'do', 'battle', 'over', 'in', 'January', 'When', 'they', 'return', 'from', 'the', 'holidays', 'on', 'Wednesday', 'lawmakers', 'will', 'begin', 'trying', 'to', 'pass', 'a', 'federal', 'budget', 'in', 'a', 'fight', 'likely', 'to', 'be']\n",
      "7\n",
      "151\n",
      "biggest\n"
     ]
    },
    {
     "data": {
      "image/png": "[encoded data removed]",
      "text/plain": [
       "<Figure size 432x288 with 1 Axes>"
      ]
     },
     "metadata": {
      "needs_background": "light"
     },
     "output_type": "display_data"
    }
   ],
   "source": [
    "#Split into Words\n",
    "from nltk.tokenize import word_tokenize\n",
    "\n",
    "tokens = word_tokenize(real[\"text\"][0])\n",
    "\n",
    "trueText=Text(tokens) #This method of converting raw strings to NLTK Text instances can be used when reading text from a file.\n",
    "\n",
    "# concordance() is a method of the Text class of NLTK. It finds words and displays a context window. Word matching is not case-sensitive.\n",
    "# concordance() is defined as follows: concordance(self, word, width=79, lines=25). Note default values for optional params.\n",
    "trueText.concordance('Trump')\n",
    "\n",
    "# remove all tokens that are not alphabetic\n",
    "words = [word for word in tokens if word.isalpha()]\n",
    "print(words[:100])\n",
    "\n",
    "print(trueText.count('Trump'))\n",
    "print(trueText.index('Trump'))\n",
    "\n",
    "trueText.similar('Republican')\n",
    "\n",
    "#This plot is helpful to determine the location of a word in a sequence of text sentences.\n",
    "trueText.dispersion_plot(['budget', 'Republican', 'election'])\n",
    "\n"
   ]
  },
  {
   "cell_type": "markdown",
   "metadata": {},
   "source": [
    "Using a stronger/longer list of stopwords\n",
    "We can combine the stopwords we have in NLTK with other stopwords list we find online.\n",
    "\n",
    "Personally, I like to use stopword-json because it has stopwrds in 50 languages\n",
    "https://github.com/6/stopwords-json"
   ]
  },
  {
   "cell_type": "code",
   "execution_count": 3,
   "metadata": {},
   "outputs": [
    {
     "data": {
      "image/png": "[encoded data removed]",
      "text/plain": [
       "<Figure size 432x288 with 1 Axes>"
      ]
     },
     "metadata": {
      "needs_background": "light"
     },
     "output_type": "display_data"
    },
    {
     "name": "stdout",
     "output_type": "stream",
     "text": [
      "{\"you've\", 'too', 'doing', 'no', 'him', '+', \"mustn't\", '-', 'did', 'himself', 'a', 'having', 'was', 's', 'll', 'has', 'into', 'only', 'haven', 'itself', \"you'll\", \"shan't\", 'ma', 'through', 'few', 'more', 'its', \"you'd\", 'are', 'not', 'hasn', 'under', '#', 'again', 'before', '}', 'further', 'will', 'then', 'an', 'if', \"wasn't\", '(', 'been', 'over', \"'\", 'them', 'up', 'don', '{', 'some', \"shouldn't\", \"hadn't\", 'shouldn', '*', 'now', 'or', 'any', 'on', 'very', 'each', 'yours', '\"', \"it's\", '?', 'am', 'is', '$', 'me', 'what', 'during', '!', 'there', '%', 'aren', \"weren't\", 'my', 'do', 'off', '@', 'who', 'ours', 'by', ';', 'which', 'needn', 'mustn', 'have', 'herself', 'with', 'hers', '&', 'from', \"needn't\", 'in', 'how', 'shan', 'theirs', 'she', 'he', 'down', 'ain', 'couldn', 'o', 'didn', 'against', 'doesn', '~', \"mightn't\", 'wouldn', 'same', 'were', 'these', '<', 'above', 'had', 'weren', 'once', '[', 'can', \"haven't\", 'those', 'being', 'own', 'all', ':', 'we', 'they', 'to', 've', 'you', 'why', 'hadn', 'our', '_', 'm', 'than', '\\\\', ')', '>', \"you're\", 'his', 'themselves', 'myself', 'd', 'after', \"that'll\", 'isn', '=', \"don't\", 'below', 'just', '.', 'her', ',', 'while', 'won', 'for', 'yourself', 'such', 'it', 'nor', ']', 'here', 'between', \"she's\", \"isn't\", 'until', 'when', 'i', 'so', \"didn't\", 'the', 'ourselves', 'where', 'most', 'y', \"won't\", 'other', 'whom', 'yourselves', 'should', 'about', 'both', \"hasn't\", 'and', 'that', 'be', 'out', 'but', 'mightn', '^', '/', 're', 'as', '|', '`', 't', 'at', 'your', 'does', \"doesn't\", 'wasn', \"should've\", 'of', \"aren't\", 'this', \"couldn't\", \"wouldn't\", 'their', 'because'}\n",
      "['washington', 'reuters', 'the', 'head', 'conservative', 'republican', 'faction', 'u', 's', 'congress', 'voted', 'month', 'huge', 'expansion', 'national', 'debt', 'pay', 'tax', 'cuts', 'called', 'fiscal', 'conservative', 'sunday', 'urged', 'budget', 'restraint', '2018', 'in', 'keeping', 'sharp', 'pivot', 'way', 'among', 'republicans', 'u', 's', 'representative', 'mark', 'meadows', 'speaking', 'cbs', 'face', 'nation', 'drew', 'hard', 'line', 'federal', 'spending', 'lawmakers', 'bracing', 'battle', 'january', 'when', 'return', 'holidays', 'wednesday', 'lawmakers', 'begin', 'trying', 'pass', 'federal', 'budget', 'fight', 'likely', 'linked', 'issues', 'immigration', 'policy', 'even', 'november', 'congressional', 'election', 'campaigns', 'approach', 'republicans', 'seek', 'keep', 'control', 'congress', 'president', 'donald', 'trump', 'republicans', 'want', 'big', 'budget', 'increase', 'military', 'spending', 'democrats', 'also', 'want', 'proportional', 'increases', 'non', 'defense', 'discretionary', 'spending', 'programs', 'support']\n"
     ]
    }
   ],
   "source": [
    "#Filter out Stop Words (and Pipeline)\n",
    "from nltk.corpus import stopwords\n",
    "from nltk.text import Text\n",
    "\n",
    "stop_words = stopwords.words('english')\n",
    "#print(stop_words)\n",
    "words = [w for w in words if not w in stop_words]\n",
    "#print(words[:100])\n",
    "trueText=Text(words)\n",
    "trueText.plot(20)  # plots 20 most common tokens\n",
    "\n",
    "\n",
    "#Combining the punctuation with the stopwords from NLTK\n",
    "from string import punctuation\n",
    "stopwords_en = set(stopwords.words('english'))\n",
    "stopwords_en_withpunct = stopwords_en.union(set(punctuation))\n",
    "print(stopwords_en_withpunct)\n",
    "wordsLower=[word.lower() for word in words if word not in stopwords_en_withpunct]\n",
    "print(wordsLower[:100])\n",
    "\n"
   ]
  },
  {
   "cell_type": "markdown",
   "metadata": {},
   "source": [
    "Using a stronger/longer list of stopwords\n",
    "We can combine the stopwords we have in NLTK with other stopwords list we find online.\n",
    "\n",
    "Personally, I like to use stopword-json because it has stopwrds in 50 languages =)\n",
    "https://github.com/6/stopwords-json"
   ]
  },
  {
   "cell_type": "code",
   "execution_count": 7,
   "metadata": {},
   "outputs": [
    {
     "name": "stdout",
     "output_type": "stream",
     "text": [
      "[('u', 's'), ('non', 'defense'), ('1', '5'), ('crowley', 'said'), ('tax', 'overhaul'), ('2018', 'in'), ('5', 'trillion'), ('national', 'debt'), ('defense', 'discretionary'), ('fiscal', 'conservative'), ('trump', 'administration'), ('among', 'republicans'), ('tax', 'bill'), ('s', 'representative'), ('federal', 'budget')]\n",
      "[('defense', 'discretionary', 'spending'), ('come', 'crowley', 'said'), ('joseph', 'crowley', 'said'), ('expansion', 'national', 'debt'), ('crowley', 'said', 'republican'), ('crowley', 'said', 'republicans'), ('trillion', 'national', 'debt'), ('called', 'fiscal', 'conservative'), ('requested', 'trump', 'administration'), ('trump', 'administration', 'already')]\n"
     ]
    },
    {
     "data": {
      "text/plain": [
       "FreqDist({'tax': 8, 'Republicans': 8, 'said': 8, 'Trump': 7, 'The': 6, 'Republican': 6, 'spending': 6, 'House': 6, 'budget': 5, 'Democrats': 5, ...})"
      ]
     },
     "execution_count": 7,
     "metadata": {},
     "output_type": "execute_result"
    }
   ],
   "source": [
    "# use to find bigrams, which are pairs of words \n",
    "from nltk.collocations import BigramCollocationFinder \n",
    "from nltk.metrics import BigramAssocMeasures \n",
    "biagram_collocation = BigramCollocationFinder.from_words(wordsLower) \n",
    "biagrams=biagram_collocation.nbest(BigramAssocMeasures.likelihood_ratio, 15) \n",
    "print (biagrams)\n",
    "\n",
    "#working with triplets instead of pairs\n",
    "from nltk.collocations import TrigramCollocationFinder\n",
    "from nltk.metrics import TrigramAssocMeasures \n",
    "stopset = set(stopwords.words('english')) \n",
    "filter_stops = lambda w: len(w) < 4 or w in stopset\n",
    "trigram_collocation = TrigramCollocationFinder.from_words(wordsLower)\n",
    "trigram_collocation.apply_word_filter(filter_stops) \n",
    "#trigram_collocation.apply_freq_filter(3) \n",
    "\n",
    "trigrams=trigram_collocation.nbest(TrigramAssocMeasures.likelihood_ratio, 10)\n",
    "print (trigrams)\n",
    "trueText.vocab()\n",
    "\n"
   ]
  },
  {
   "cell_type": "markdown",
   "metadata": {},
   "source": [
    "#### Stem Words\n",
    "Stemming refers to the process of reducing each word to its root or base. For example fishing,\n",
    "fished, fisher all reduce to the stem fish. Some applications, like document classification, may\n",
    "benefit from stemming in order to both reduce the vocabulary and to focus on the sense or\n",
    "sentiment of a document rather than deeper meaning. There are many stemming algorithms,\n",
    "although a popular and long-standing method is the Porter Stemming algorithm. This method\n",
    "is available in NLTK via the PorterStemmer class.\n",
    "\n",
    "The stemming and lemmatization process are hand-written regex rules written find the root word.\n",
    "\n",
    "Stemming: Trying to shorten a word with simple regex rules\n",
    "\n",
    "Lemmatization: Trying to find the root word with linguistics rules (with the use of regexes)"
   ]
  },
  {
   "cell_type": "code",
   "execution_count": 8,
   "metadata": {
    "scrolled": true
   },
   "outputs": [
    {
     "name": "stdout",
     "output_type": "stream",
     "text": [
      "['washington', 'reuter', 'the', 'head', 'conserv', 'republican', 'faction', 'U', 'S', 'congress', 'vote', 'month', 'huge', 'expans', 'nation', 'debt', 'pay', 'tax', 'cut', 'call', 'fiscal', 'conserv', 'sunday', 'urg', 'budget', 'restraint', '2018', 'In', 'keep', 'sharp', 'pivot', 'way', 'among', 'republican', 'U', 'S', 'repres', 'mark', 'meadow', 'speak', 'cb', 'face', 'nation', 'drew', 'hard', 'line', 'feder', 'spend', 'lawmak', 'brace', 'battl', 'januari', 'when', 'return', 'holiday', 'wednesday', 'lawmak', 'begin', 'tri', 'pass', 'feder', 'budget', 'fight', 'like', 'link', 'issu', 'immigr', 'polici', 'even', 'novemb', 'congression', 'elect', 'campaign', 'approach', 'republican', 'seek', 'keep', 'control', 'congress', 'presid', 'donald', 'trump', 'republican', 'want', 'big', 'budget', 'increas', 'militari', 'spend', 'democrat', 'also', 'want', 'proport', 'increas', 'non', 'defens', 'discretionari', 'spend', 'program', 'support']\n"
     ]
    }
   ],
   "source": [
    "# stemming of words\n",
    "from nltk.stem.porter import PorterStemmer\n",
    "porter = PorterStemmer()\n",
    "stemmed = [porter.stem(word) for word in words]\n",
    "print(stemmed[:100])"
   ]
  },
  {
   "cell_type": "markdown",
   "metadata": {},
   "source": [
    "Lemmatization with NLTK. Lemmatization is the process of grouping together the different inflected forms of a word \n",
    "    so they can be analysed as a single item. Lemmatization is similar to stemming but it brings context to the words."
   ]
  },
  {
   "cell_type": "code",
   "execution_count": 9,
   "metadata": {},
   "outputs": [
    {
     "name": "stdout",
     "output_type": "stream",
     "text": [
      "walking\n",
      "walk\n",
      "walked\n"
     ]
    }
   ],
   "source": [
    "from nltk.stem import WordNetLemmatizer\n",
    "wnl = WordNetLemmatizer()\n",
    "\n",
    "for word in ['walking', 'walks', 'walked']:\n",
    "    print(wnl.lemmatize(word))"
   ]
  },
  {
   "cell_type": "markdown",
   "metadata": {},
   "source": [
    "The lemmatizer is actually pretty complicated, it needs Parts of Speech (POS) tags.\n",
    "Lets see how to \"whip\" the lemmatizer to do what you need.\n",
    "\n",
    "By default, the WordNetLemmatizer.lemmatize() function will assume that the word is a Noun \n",
    "if there's no explict POS tag in the input.\n",
    "\n",
    "First you need the pos_tag function to tag a sentence and using the tag convert it into WordNet tagsets and\n",
    "then put it through to the WordNetLemmatizer.\n",
    "\n",
    "Note: Lemmatization won't really work on single words alone without context or knowledge of its POS tag \n",
    "    (i.e. we need to know whether the word is a noun, verb, adjective, adverb)"
   ]
  },
  {
   "cell_type": "code",
   "execution_count": 12,
   "metadata": {},
   "outputs": [
    {
     "name": "stdout",
     "output_type": "stream",
     "text": [
      "[('He', 'PRP'), ('is', 'VBZ'), ('walking', 'VBG'), ('to', 'TO'), ('school', 'NN')]\n"
     ]
    },
    {
     "data": {
      "text/plain": [
       "['he', 'be', 'walk', 'to', 'school']"
      ]
     },
     "execution_count": 12,
     "metadata": {},
     "output_type": "execute_result"
    }
   ],
   "source": [
    "from nltk import pos_tag\n",
    "from nltk.stem import WordNetLemmatizer\n",
    "from nltk.tokenize import word_tokenize\n",
    "wnl = WordNetLemmatizer()\n",
    "\n",
    "def penn2morphy(penntag):\n",
    "    \"\"\" Converts Penn Treebank tags to WordNet. \"\"\"\n",
    "    morphy_tag = {'NN':'n', 'JJ':'a',\n",
    "                  'VB':'v', 'RB':'r'}\n",
    "    try:\n",
    "        return morphy_tag[penntag[:2]]\n",
    "    except:\n",
    "        return 'n' # if mapping isn't found, fall back to Noun.\n",
    "    \n",
    "# `pos_tag` takes the tokenized sentence as input, i.e. list of string,\n",
    "# and returns a tuple of (word, tg), i.e. list of tuples of strings\n",
    "# so we need to get the tag from the 2nd element.\n",
    "\n",
    "walking_tagged = pos_tag(word_tokenize('He is walking to school'))\n",
    "print(walking_tagged)\n",
    "[wnl.lemmatize(word.lower(), pos=penn2morphy(tag)) for word, tag in walking_tagged]"
   ]
  },
  {
   "cell_type": "code",
   "execution_count": 19,
   "metadata": {},
   "outputs": [
    {
     "name": "stdout",
     "output_type": "stream",
     "text": [
      "WASHINGTON (Reuters) - The head of a conservative Republican faction in the U.S. Congress, who voted this month for a huge expansion of the national debt to pay for tax cuts, called himself a “fiscal conservative” on Sunday and urged budget restraint in 2018. In keeping with a sharp pivot under way among Republicans, U.S. Representative Mark Meadows, speaking on CBS’ “Face the Nation,” drew a hard line on federal spending, which lawmakers are bracing to do battle over in January. When they return from the holidays on Wednesday, lawmakers will begin trying to pass a federal budget in a fight likely to be linked to other issues, such as immigration policy, even as the November congressional election campaigns approach in which Republicans will seek to keep control of Congress. President Donald Trump and his Republicans want a big budget increase in military spending, while Democrats also want proportional increases for non-defense “discretionary” spending on programs that support education, scientific research, infrastructure, public health and environmental protection. “The (Trump) administration has already been willing to say: ‘We’re going to increase non-defense discretionary spending ... by about 7 percent,’” Meadows, chairman of the small but influential House Freedom Caucus, said on the program. “Now, Democrats are saying that’s not enough, we need to give the government a pay raise of 10 to 11 percent. For a fiscal conservative, I don’t see where the rationale is. ... Eventually you run out of other people’s money,” he said. Meadows was among Republicans who voted in late December for their party’s debt-financed tax overhaul, which is expected to balloon the federal budget deficit and add about $1.5 trillion over 10 years to the $20 trillion national debt. “It’s interesting to hear Mark talk about fiscal responsibility,” Democratic U.S. Representative Joseph Crowley said on CBS. Crowley said the Republican tax bill would require the  United States to borrow $1.5 trillion, to be paid off by future generations, to finance tax cuts for corporations and the rich. “This is one of the least ... fiscally responsible bills we’ve ever seen passed in the history of the House of Representatives. I think we’re going to be paying for this for many, many years to come,” Crowley said. Republicans insist the tax package, the biggest U.S. tax overhaul in more than 30 years,  will boost the economy and job growth. House Speaker Paul Ryan, who also supported the tax bill, recently went further than Meadows, making clear in a radio interview that welfare or “entitlement reform,” as the party often calls it, would be a top Republican priority in 2018. In Republican parlance, “entitlement” programs mean food stamps, housing assistance, Medicare and Medicaid health insurance for the elderly, poor and disabled, as well as other programs created by Washington to assist the needy. Democrats seized on Ryan’s early December remarks, saying they showed Republicans would try to pay for their tax overhaul by seeking spending cuts for social programs. But the goals of House Republicans may have to take a back seat to the Senate, where the votes of some Democrats will be needed to approve a budget and prevent a government shutdown. Democrats will use their leverage in the Senate, which Republicans narrowly control, to defend both discretionary non-defense programs and social spending, while tackling the issue of the “Dreamers,” people brought illegally to the country as children. Trump in September put a March 2018 expiration date on the Deferred Action for Childhood Arrivals, or DACA, program, which protects the young immigrants from deportation and provides them with work permits. The president has said in recent Twitter messages he wants funding for his proposed Mexican border wall and other immigration law changes in exchange for agreeing to help the Dreamers. Representative Debbie Dingell told CBS she did not favor linking that issue to other policy objectives, such as wall funding. “We need to do DACA clean,” she said.  On Wednesday, Trump aides will meet with congressional leaders to discuss those issues. That will be followed by a weekend of strategy sessions for Trump and Republican leaders on Jan. 6 and 7, the White House said. Trump was also scheduled to meet on Sunday with Florida Republican Governor Rick Scott, who wants more emergency aid. The House has passed an $81 billion aid package after hurricanes in Florida, Texas and Puerto Rico, and wildfires in California. The package far exceeded the $44 billion requested by the Trump administration. The Senate has not yet voted on the aid.  \n",
      "\n",
      "Lemmatized and removed stopwords:\n",
      "['washington', '(', 'reuters', ')', '-', 'head', 'conservative', 'republican', 'faction', 'u.s.', 'congress', ',', 'vote', 'month', 'huge', 'expansion', 'national', 'debt', 'pay', 'tax', 'cut', ',', 'call', '“', 'fiscal', 'conservative', '”', 'sunday', 'urge', 'budget', 'restraint', '.', 'keep', 'sharp', 'pivot', 'way', 'among', 'republican', ',', 'u.s.', 'representative', 'mark', 'meadow', ',', 'speak', 'cbs', '’', '“', 'face', 'nation', ',', '”', 'draw', 'hard', 'line', 'federal', 'spending', ',', 'lawmaker', 'brace', 'battle', 'january', '.', 'return', 'holiday', 'wednesday', ',', 'lawmaker', 'begin', 'try', 'pass', 'federal', 'budget', 'fight', 'likely', 'link', 'issue', ',', 'immigration', 'policy', ',', 'even', 'november', 'congressional', 'election', 'campaign', 'approach', 'republican', 'seek', 'keep', 'control', 'congress', '.', 'president', 'donald', 'trump', 'republican', 'want', 'big', 'budget', 'increase', 'military', 'spending', ',', 'democrat', 'also', 'want', 'proportional', 'increase', 'non-defense', '“', 'discretionary', '”', 'spending', 'program', 'support', 'education', ',', 'scientific', 'research', ',', 'infrastructure', ',', 'public', 'health', 'environmental', 'protection', '.', '“', '(', 'trump', ')', 'administration', 'already', 'willing', 'say', ':', '‘', '’', 'go', 'increase', 'non-defense', 'discretionary', 'spending', '...', 'percent', ',', '’', '”', 'meadow', ',', 'chairman', 'small', 'influential', 'house', 'freedom', 'caucus', ',', 'say', 'program', '.', '“', ',', 'democrat', 'say', '’', 'enough', ',', 'need', 'give', 'government', 'pay', 'raise', 'percent', '.', 'fiscal', 'conservative', ',', '’', 'see', 'rationale', '.', '...', 'eventually', 'run', 'people', '’', 'money', ',', '”', 'say', '.', 'meadow', 'among', 'republican', 'vote', 'late', 'december', 'party', '’', 'debt-financed', 'tax', 'overhaul', ',', 'expect', 'balloon', 'federal', 'budget', 'deficit', 'add', '$', '1.5', 'trillion', 'year', '$', 'trillion', 'national', 'debt', '.', '“', '’', 'interest', 'hear', 'mark', 'talk', 'fiscal', 'responsibility', ',', '”', 'democratic', 'u.s.', 'representative', 'joseph', 'crowley', 'say', 'cbs', '.', 'crowley', 'say', 'republican', 'tax', 'bill', 'would', 'require', 'united', 'state', 'borrow', '$', '1.5', 'trillion', ',', 'pay', 'future', 'generation', ',', 'finance', 'tax', 'cut', 'corporation', 'rich', '.', '“', 'one', 'least', '...', 'fiscally', 'responsible', 'bill', '’', 'ever', 'see', 'pass', 'history', 'house', 'representative', '.', 'think', '’', 'go', 'pay', 'many', ',', 'many', 'year', 'come', ',', '”', 'crowley', 'say', '.', 'republican', 'insist', 'tax', 'package', ',', 'big', 'u.s.', 'tax', 'overhaul', 'year', ',', 'boost', 'economy', 'job', 'growth', '.', 'house', 'speaker', 'paul', 'ryan', ',', 'also', 'support', 'tax', 'bill', ',', 'recently', 'go', 'meadow', ',', 'make', 'clear', 'radio', 'interview', 'welfare', '“', 'entitlement', 'reform', ',', '”', 'party', 'often', 'call', ',', 'would', 'top', 'republican', 'priority', '.', 'republican', 'parlance', ',', '“', 'entitlement', '”', 'program', 'mean', 'food', 'stamp', ',', 'housing', 'assistance', ',', 'medicare', 'medicaid', 'health', 'insurance', 'elderly', ',', 'poor', 'disabled', ',', 'well', 'program', 'create', 'washington', 'assist', 'needy', '.', 'democrat', 'seize', 'ryan', '’', 'early', 'december', 'remark', ',', 'say', 'show', 'republican', 'would', 'try', 'pay', 'tax', 'overhaul', 'seek', 'spending', 'cut', 'social', 'program', '.', 'goal', 'house', 'republican', 'may', 'take', 'back', 'seat', 'senate', ',', 'vote', 'democrat', 'need', 'approve', 'budget', 'prevent', 'government', 'shutdown', '.', 'democrat', 'use', 'leverage', 'senate', ',', 'republican', 'narrowly', 'control', ',', 'defend', 'discretionary', 'non-defense', 'program', 'social', 'spending', ',', 'tackle', 'issue', '“', 'dreamer', ',', '”', 'people', 'bring', 'illegally', 'country', 'child', '.', 'trump', 'september', 'put', 'march', 'expiration', 'date', 'deferred', 'action', 'childhood', 'arrival', ',', 'daca', ',', 'program', ',', 'protect', 'young', 'immigrant', 'deportation', 'provide', 'work', 'permit', '.', 'president', 'say', 'recent', 'twitter', 'message', 'want', 'fund', 'propose', 'mexican', 'border', 'wall', 'immigration', 'law', 'change', 'exchange', 'agree', 'help', 'dreamer', '.', 'representative', 'debbie', 'dingell', 'tell', 'cbs', 'favor', 'link', 'issue', 'policy', 'objective', ',', 'wall', 'funding', '.', '“', 'need', 'daca', 'clean', ',', '”', 'say', '.', 'wednesday', ',', 'trump', 'aide', 'meet', 'congressional', 'leader', 'discuss', 'issue', '.', 'follow', 'weekend', 'strategy', 'session', 'trump', 'republican', 'leader', 'jan.', ',', 'white', 'house', 'say', '.', 'trump', 'also', 'schedule', 'meet', 'sunday', 'florida', 'republican', 'governor', 'rick', 'scott', ',', 'want', 'emergency', 'aid', '.', 'house', 'pass', '$', 'billion', 'aid', 'package', 'hurricane', 'florida', ',', 'texas', 'puerto', 'rico', ',', 'wildfire', 'california', '.', 'package', 'far', 'exceed', '$', 'billion', 'request', 'trump', 'administration', '.', 'senate', 'yet', 'vote', 'aid', '.']\n"
     ]
    }
   ],
   "source": [
    "#Now, lets create a new lemmatization function for sentences given what we learnt above.\n",
    "from nltk.stem import WordNetLemmatizer\n",
    "\n",
    "wnl = WordNetLemmatizer()\n",
    "\n",
    "def penn2morphy(penntag):\n",
    "    \"\"\" Converts Penn Treebank tags to WordNet. \"\"\"\n",
    "    morphy_tag = {'NN':'n', 'JJ':'a',\n",
    "                  'VB':'v', 'RB':'r'}\n",
    "    try:\n",
    "        return morphy_tag[penntag[:2]]\n",
    "    except:\n",
    "        return 'n' \n",
    "    \n",
    "def lemmatize_sent(text): \n",
    "    # Text input is string, returns lowercased strings.\n",
    "    return [wnl.lemmatize(word.lower(), pos=penn2morphy(tag)) \n",
    "            for word, tag in pos_tag(word_tokenize(text))]\n",
    "\n",
    "lemmatize_sent('He is walking to school')\n",
    "print(real[\"text\"][0], '\\n')\n",
    "print('Lemmatized and removed stopwords:')\n",
    "print([word for word in lemmatize_sent(real[\"text\"][0]) \n",
    "       if word not in stop_words\n",
    "       and not word.isdigit() ])"
   ]
  },
  {
   "cell_type": "code",
   "execution_count": 31,
   "metadata": {},
   "outputs": [
    {
     "name": "stdout",
     "output_type": "stream",
     "text": [
      "['washington', 'reuters', 'head', 'conservative', 'republican', 'faction', 'congress', 'vote', 'month', 'huge', 'expansion', 'national', 'debt', 'pay', 'tax', 'cut', 'call', 'fiscal', 'conservative', 'sunday', 'urge', 'budget', 'restraint', 'keep', 'sharp', 'pivot', 'way', 'among', 'republican', 'representative', 'mark', 'meadow', 'speak', 'cbs', 'face', 'nation', 'draw', 'hard', 'line', 'federal', 'spending', 'lawmaker', 'brace', 'battle', 'january', 'return', 'holiday', 'wednesday', 'lawmaker', 'begin', 'try', 'pass', 'federal', 'budget', 'fight', 'likely', 'link', 'issue', 'immigration', 'policy', 'even', 'november', 'congressional', 'election', 'campaign', 'approach', 'republican', 'seek', 'keep', 'control', 'congress', 'president', 'donald', 'trump', 'republican', 'want', 'big', 'budget', 'increase', 'military', 'spending', 'democrat', 'also', 'want', 'proportional', 'increase', 'discretionary', 'spending', 'program', 'support', 'education', 'scientific', 'research', 'infrastructure', 'public', 'health', 'environmental', 'protection', 'trump', 'administration', 'already', 'willing', 'say', 'go', 'increase', 'discretionary', 'spending', 'percent', 'meadow', 'chairman', 'small', 'influential', 'house', 'freedom', 'caucus', 'say', 'program', 'democrat', 'say', 'enough', 'need', 'give', 'government', 'pay', 'raise', 'percent', 'fiscal', 'conservative', 'see', 'rationale', 'eventually', 'run', 'people', 'money', 'say', 'meadow', 'among', 'republican', 'vote', 'late', 'december', 'party', 'tax', 'overhaul', 'expect', 'balloon', 'federal', 'budget', 'deficit', 'add', 'trillion', 'year', 'trillion', 'national', 'debt', 'interest', 'hear', 'mark', 'talk', 'fiscal', 'responsibility', 'democratic', 'representative', 'joseph', 'crowley', 'say', 'cbs', 'crowley', 'say', 'republican', 'tax', 'bill', 'would', 'require', 'united', 'state', 'borrow', 'trillion', 'pay', 'future', 'generation', 'finance', 'tax', 'cut', 'corporation', 'rich', 'one', 'least', 'fiscally', 'responsible', 'bill', 'ever', 'see', 'pass', 'history', 'house', 'representative', 'think', 'go', 'pay', 'many', 'many', 'year', 'come', 'crowley', 'say', 'republican', 'insist', 'tax', 'package', 'big', 'tax', 'overhaul', 'year', 'boost', 'economy', 'job', 'growth', 'house', 'speaker', 'paul', 'ryan', 'also', 'support', 'tax', 'bill', 'recently', 'go', 'meadow', 'make', 'clear', 'radio', 'interview', 'welfare', 'entitlement', 'reform', 'party', 'often', 'call', 'would', 'top', 'republican', 'priority', 'republican', 'parlance', 'entitlement', 'program', 'mean', 'food', 'stamp', 'housing', 'assistance', 'medicare', 'medicaid', 'health', 'insurance', 'elderly', 'poor', 'disabled', 'well', 'program', 'create', 'washington', 'assist', 'needy', 'democrat', 'seize', 'ryan', 'early', 'december', 'remark', 'say', 'show', 'republican', 'would', 'try', 'pay', 'tax', 'overhaul', 'seek', 'spending', 'cut', 'social', 'program', 'goal', 'house', 'republican', 'may', 'take', 'back', 'seat', 'senate', 'vote', 'democrat', 'need', 'approve', 'budget', 'prevent', 'government', 'shutdown', 'democrat', 'use', 'leverage', 'senate', 'republican', 'narrowly', 'control', 'defend', 'discretionary', 'program', 'social', 'spending', 'tackle', 'issue', 'dreamer', 'people', 'bring', 'illegally', 'country', 'child', 'trump', 'september', 'put', 'march', 'expiration', 'date', 'deferred', 'action', 'childhood', 'arrival', 'daca', 'program', 'protect', 'young', 'immigrant', 'deportation', 'provide', 'work', 'permit', 'president', 'say', 'recent', 'twitter', 'message', 'want', 'fund', 'propose', 'mexican', 'border', 'wall', 'immigration', 'law', 'change', 'exchange', 'agree', 'help', 'dreamer', 'representative', 'debbie', 'dingell', 'tell', 'cbs', 'favor', 'link', 'issue', 'policy', 'objective', 'wall', 'funding', 'need', 'daca', 'clean', 'say', 'wednesday', 'trump', 'aide', 'meet', 'congressional', 'leader', 'discuss', 'issue', 'follow', 'weekend', 'strategy', 'session', 'trump', 'republican', 'leader', 'white', 'house', 'say', 'trump', 'also', 'schedule', 'meet', 'sunday', 'florida', 'republican', 'governor', 'rick', 'scott', 'want', 'emergency', 'aid', 'house', 'pass', 'billion', 'aid', 'package', 'hurricane', 'florida', 'texas', 'puerto', 'rico', 'wildfire', 'california', 'package', 'far', 'exceed', 'billion', 'request', 'trump', 'administration', 'senate', 'yet', 'vote', 'aid']\n"
     ]
    }
   ],
   "source": [
    "def preprocess_text(text):\n",
    "    # Input: str, i.e. document/sentence\n",
    "    # Output: list(str) , i.e. list of lemmas\n",
    "    stopwords_en = set(stopwords.words('english'))\n",
    "    stopwords_en_withpunct = stopwords_en.union(set(punctuation))\n",
    "    return [word for word in lemmatize_sent(text) \n",
    "            if word not in stopwords_en_withpunct and word.isalpha()]\n",
    "\n",
    "wordsPreprocessed=preprocess_text(real[\"text\"][0])\n",
    "print(wordsPreprocessed)"
   ]
  },
  {
   "cell_type": "markdown",
   "metadata": {},
   "source": [
    "#### Handling large documents and large collections of text documents that do not fit into memory.\n",
    "Extracting text from markup like HTML, PDF, or other structured document formats.\n",
    "Transliteration of characters from other languages into English.\n",
    "Decoding Unicode characters into a normalized form, such as UTF8.\n",
    "Handling of domain specific words, phrases, and acronyms.\n",
    "Handling or removing numbers, such as dates and amounts.\n",
    "Locating and correcting common typos and misspellings."
   ]
  }
 ],
 "metadata": {
  "kernelspec": {
   "display_name": "Python 3",
   "language": "python",
   "name": "python3"
  },
  "language_info": {
   "codemirror_mode": {
    "name": "ipython",
    "version": 3
   },
   "file_extension": ".py",
   "mimetype": "text/x-python",
   "name": "python",
   "nbconvert_exporter": "python",
   "pygments_lexer": "ipython3",
   "version": "3.7.6"
  }
 },
 "nbformat": 4,
 "nbformat_minor": 4
}
